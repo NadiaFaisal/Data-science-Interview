{
 "cells": [
  {
   "cell_type": "code",
   "execution_count": null,
   "id": "bd4ac27f",
   "metadata": {},
   "outputs": [],
   "source": [
    "##!!!!!!!!!!!!!!!!!!!!!!!!!!!!!!!      Assignment 1: Python Basics        !!!!!!!!!!!!!!!!!!!!!!!!!!!!!!!!!!!!!!!!!!!!##\n",
    "## +++++++++++++++++++++++++           Submitted by: Nadia Faisal         ++++++++++++++++++++++++++++++++++++++++++++##\n",
    "## Task Requirements:\n",
    "## Solve the following problems:\n",
    "\n",
    "## ## ## Notes: All variables should be available from the user as an input data.  ## ## ##"
   ]
  },
  {
   "cell_type": "code",
   "execution_count": null,
   "id": "62038220",
   "metadata": {},
   "outputs": [],
   "source": [
    "##                           1. Write a program to calculate the results of these following equations:\n",
    "\n",
    "## 3.2X + 3 Linear\n",
    "## 8.1X^2 + 2X + 15 Second-order\n",
    "## X^2 + Y^2 \n",
    "\n",
    "\n",
    "x,y,z=input(\"Enter three values: \",).split()\n",
    "\n",
    "print(\"your values are:\",x, \",\",y,\"and\",z)\n",
    "print(\"The output of this equation (3.2X + 3) regarding the values assigned is \", 3.2*float(x)+3, \"\\n\")\n",
    "\n",
    "print(\"The output of (8.1X^2 + 2X + 15) regarding the values assigned is \",8.1*float(x)**2+(2*float(x)+15), \"\\n\")\n",
    "\n",
    "print(\"The output of this equation ( X^2 + Y^2) regarding the values assigned is \",(float(x)**2)+(float(y)**2),\"\\n\")"
   ]
  },
  {
   "cell_type": "code",
   "execution_count": null,
   "id": "d593cdab",
   "metadata": {},
   "outputs": [],
   "source": [
    "##                  2. Write a program to print basic statistics values for four numbers, the output should be:\n",
    "\n",
    "## Mean\n",
    "## Std (standard deviation)\n",
    "## Variance\n",
    "\n",
    "a,b,c,d = list(map(float, input(\"Enter four values to have insite into some of their descriptive measurments :\").split())) ## the user entering the values\n",
    "\n",
    "print(\"\\n\")\n",
    "\n",
    "print('you have entered:',a,b,c,d, \"\\n\")\n",
    "\n",
    "\n",
    "mean=(a+b+c+d)/4\n",
    "\n",
    "\n",
    "print(\"The mean of these four numbers is \",mean, \"\\n\")\n",
    "\n",
    "########## to find the variance ########\n",
    "\n",
    "a1=(a-mean)**2\n",
    "b1=(b-mean)**2\n",
    "c1=(c-mean)**2\n",
    "d1=(d-mean)**2\n",
    "\n",
    "variance=(a1+b1+c1+d1)/4\n",
    "\n",
    "print(\"The variance of these four numbers is \",variance, \"\\n\")\n",
    "\n",
    "sd=(variance)**(1/2)\n",
    "\n",
    "print(\"The Standard deviation of these four numbers is \",sd)\n",
    "\n",
    "\n",
    "\n",
    "\n"
   ]
  },
  {
   "cell_type": "code",
   "execution_count": null,
   "id": "30ec0963",
   "metadata": {},
   "outputs": [],
   "source": [
    "##                  3. Write a program to convert a string input from user to lower and upper cases.\n",
    "## Input should be:\n",
    "## tAhAlUf\n",
    "## UAE\n",
    "\n",
    "first_word=input(\"Enter tahAluf as it is written here and i will convert it to you into lower case form then into the upper case (:\\n\")\n",
    "\n",
    "print(\"the upper case form is : \",first_word.upper())\n",
    "print(\"the lower case form is : \",first_word.lower())\n",
    "\n"
   ]
  },
  {
   "cell_type": "code",
   "execution_count": null,
   "id": "b865aa1c",
   "metadata": {},
   "outputs": [],
   "source": [
    "##                  4. Write a program that replace a specified character in string by *.\n",
    "\n",
    "## Input should be:\n",
    "\n",
    "########################## Artificial Intelligence: replace A  ########################\n",
    "\n",
    "\n",
    "txt1=input(\"Enter \\\"Artificial Intelligence\\\" if you are a member of Tahaluf group (:  \")\n",
    "print(\"\\n\")\n",
    "\n",
    "print(\"The string before replacing is:\",txt1)\n",
    "\n",
    "\n",
    "print(\"\\n\")\n",
    "x = txt1.replace(\"A\", \"*\")\n",
    "\n",
    "print(\"The string after replacing is:\",x)\n",
    "\n",
    "print(\"\\n\")\n",
    "########################## Data Science: replace e  ##################################\n",
    "\n",
    "txt2=input(\"Enter \\\" Data Science \\\"  (:  \")\n",
    "print(\"\\n\")\n",
    "\n",
    "\n",
    "print(\"The string before replacing is:\",txt2)\n",
    "y = txt2.replace(\"e\", \"*\")\n",
    "print(\"\\n\")\n",
    "\n",
    "print(\"The string after replacing is:\",y)\n",
    "\n",
    "print(\"\\n\")"
   ]
  }
 ],
 "metadata": {
  "kernelspec": {
   "display_name": "Python 3 (ipykernel)",
   "language": "python",
   "name": "python3"
  },
  "language_info": {
   "codemirror_mode": {
    "name": "ipython",
    "version": 3
   },
   "file_extension": ".py",
   "mimetype": "text/x-python",
   "name": "python",
   "nbconvert_exporter": "python",
   "pygments_lexer": "ipython3",
   "version": "3.9.12"
  }
 },
 "nbformat": 4,
 "nbformat_minor": 5
}
